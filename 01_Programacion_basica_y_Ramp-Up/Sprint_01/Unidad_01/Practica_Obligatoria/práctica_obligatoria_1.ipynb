{
 "cells": [
  {
   "attachments": {
    "image.png": {
     "image/png": "[encoded data removed]"
    }
   },
   "cell_type": "markdown",
   "metadata": {},
   "source": [
    "# Lo más importante  \n",
    "* Matemáticas  \n",
    "* Python  \n",
    "* SQL  \n",
    "![image.png](attachment:image.png)  \n",
    "Otro tema importante es el de **business intelligence**  \n",
    "si tienes dudas, puedes escribirme a: [alberto.romero@thebridgeschool.es](alberto.romero@thebridgeschool.es)  \n",
    "Y en esta páginase aprende mucho de machine learning: [página con ML](https://www.kaggle.com/)"
   ]
  },
  {
   "cell_type": "markdown",
   "metadata": {},
   "source": [
    "| Rump up | Data Analysis| Machine Learning| Data & business |\n",
    "|-----------|-----------|-----------|-----------|\n",
    "| Python| EDA| Supervised| Productivización|\n",
    "| Estadistica| R| non supervised| Storytelling|\n",
    "| SQL| Feat. Eng.| Deep learning| API|"
   ]
  },
  {
   "cell_type": "markdown",
   "metadata": {},
   "source": [
    "$\\sqrt{3x - 1} + (1 + x)^2$."
   ]
  }
 ],
 "metadata": {
  "kernelspec": {
   "display_name": "Python 3",
   "language": "python",
   "name": "python3"
  },
  "language_info": {
   "name": "python",
   "version": "3.12.3"
  }
 },
 "nbformat": 4,
 "nbformat_minor": 2
}
